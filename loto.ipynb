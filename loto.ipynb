{
  "nbformat": 4,
  "nbformat_minor": 0,
  "metadata": {
    "colab": {
      "provenance": [],
      "authorship_tag": "ABX9TyN9jv0dcb1UH/SvAYMwjfkr"
    },
    "kernelspec": {
      "name": "python3",
      "display_name": "Python 3"
    },
    "language_info": {
      "name": "python"
    }
  },
  "cells": [
    {
      "cell_type": "code",
      "execution_count": 1,
      "metadata": {
        "colab": {
          "base_uri": "https://localhost:8080/"
        },
        "id": "qrSrayYUFORF",
        "outputId": "35bcd5eb-3902-4d5f-f0cc-8279ec136881"
      },
      "outputs": [
        {
          "output_type": "stream",
          "name": "stdout",
          "text": [
            "Looking in indexes: https://pypi.org/simple, https://us-python.pkg.dev/colab-wheels/public/simple/\n",
            "Collecting wget\n",
            "  Downloading wget-3.2.zip (10 kB)\n",
            "  Preparing metadata (setup.py) ... \u001b[?25l\u001b[?25hdone\n",
            "Building wheels for collected packages: wget\n",
            "  Building wheel for wget (setup.py) ... \u001b[?25l\u001b[?25hdone\n",
            "  Created wheel for wget: filename=wget-3.2-py3-none-any.whl size=9657 sha256=d26fc25e23b5322c6867f97089c4a0b1085961353bb299c9d563f4ac3d0c8c11\n",
            "  Stored in directory: /root/.cache/pip/wheels/8b/f1/7f/5c94f0a7a505ca1c81cd1d9208ae2064675d97582078e6c769\n",
            "Successfully built wget\n",
            "Installing collected packages: wget\n",
            "Successfully installed wget-3.2\n"
          ]
        }
      ],
      "source": [
        "!apt-get install openjdk-8-jdk-headless -qq > /dev/null\n",
        "!wget -q http://archive.apache.org/dist/spark/spark-3.1.1/spark-3.1.1-bin-hadoop3.2.tgz\n",
        "!tar xf spark-3.1.1-bin-hadoop3.2.tgz\n",
        "!pip install -q findspark\n",
        "!pip install wget"
      ]
    },
    {
      "cell_type": "code",
      "source": [
        "import os\n",
        "os.environ[\"JAVA_HOME\"] = \"/usr/lib/jvm/java-8-openjdk-amd64\"\n",
        "os.environ[\"SPARK_HOME\"] = \"/content/spark-3.1.1-bin-hadoop3.2\""
      ],
      "metadata": {
        "id": "IsxxI5NlGXFg"
      },
      "execution_count": 2,
      "outputs": []
    },
    {
      "cell_type": "code",
      "source": [
        "import findspark\n",
        "findspark.init()\n",
        "from pyspark.sql import SparkSession\n",
        "spark = SparkSession.builder.master(\"local[*]\").getOrCreate()\n",
        "spark.conf.set(\"spark.sql.repl.eagerEval.enabled\", True) # Property used to format output tables better\n",
        "spark"
      ],
      "metadata": {
        "colab": {
          "base_uri": "https://localhost:8080/",
          "height": 221
        },
        "id": "dU3BX52uGZwP",
        "outputId": "dfa1f7de-ce62-4b02-a878-a8cd5c39d7cf"
      },
      "execution_count": 23,
      "outputs": [
        {
          "output_type": "execute_result",
          "data": {
            "text/plain": [
              "<pyspark.sql.session.SparkSession at 0x7fa3001e2f50>"
            ],
            "text/html": [
              "\n",
              "            <div>\n",
              "                <p><b>SparkSession - in-memory</b></p>\n",
              "                \n",
              "        <div>\n",
              "            <p><b>SparkContext</b></p>\n",
              "\n",
              "            <p><a href=\"http://e66370919e50:4040\">Spark UI</a></p>\n",
              "\n",
              "            <dl>\n",
              "              <dt>Version</dt>\n",
              "                <dd><code>v3.1.1</code></dd>\n",
              "              <dt>Master</dt>\n",
              "                <dd><code>local[*]</code></dd>\n",
              "              <dt>AppName</dt>\n",
              "                <dd><code>pyspark-shell</code></dd>\n",
              "            </dl>\n",
              "        </div>\n",
              "        \n",
              "            </div>\n",
              "        "
            ]
          },
          "metadata": {},
          "execution_count": 23
        }
      ]
    },
    {
      "cell_type": "code",
      "source": [
        "from pyspark.sql import SparkSession\n",
        "from pyspark.sql.functions import col, lit"
      ],
      "metadata": {
        "id": "FQElrVBYGfm_"
      },
      "execution_count": 24,
      "outputs": []
    },
    {
      "cell_type": "code",
      "source": [
        "df_1 = spark.read.format(\"csv\").option(\"header\", \"true\").load(\"grandloto_201912.csv\", sep=\";\")\n",
        "df_2 = spark.read.format(\"csv\").option(\"header\", \"true\").load(\"loto.csv\", sep=\";\")\n",
        "df_3 = spark.read.format(\"csv\").option(\"header\", \"true\").load(\"loto2017.csv\", sep=\";\")\n",
        "df_4 = spark.read.format(\"csv\").option(\"header\", \"true\").load(\"loto_201902.csv\", sep=\";\")\n",
        "df_5 = spark.read.format(\"csv\").option(\"header\", \"true\").load(\"loto_201911.csv\", sep=\";\")\n",
        "df_6 = spark.read.format(\"csv\").option(\"header\", \"true\").load(\"lotonoel2017.csv\", sep=\";\")\n",
        "df_7 = spark.read.format(\"csv\").option(\"header\", \"true\").load(\"nouveau_loto.csv\", sep=\";\")\n",
        "df_8 = spark.read.format(\"csv\").option(\"header\", \"true\").load(\"nouveau_superloto.csv\", sep=\";\")\n",
        "df_9 = spark.read.format(\"csv\").option(\"header\", \"true\").load(\"sloto.csv\", sep=\";\")\n",
        "df_10 = spark.read.format(\"csv\").option(\"header\", \"true\").load(\"superloto2017.csv\", sep=\";\")\n",
        "df_11 = spark.read.format(\"csv\").option(\"header\", \"true\").load(\"superloto_201907.csv\", sep=\";\")"
      ],
      "metadata": {
        "id": "a89qaxgIGi5Z"
      },
      "execution_count": 25,
      "outputs": []
    },
    {
      "cell_type": "code",
      "source": [
        "df_1.dtypes"
      ],
      "metadata": {
        "colab": {
          "base_uri": "https://localhost:8080/"
        },
        "id": "9fWU0lpdG8OO",
        "outputId": "2ae2131f-b857-4629-b074-078845d3616b"
      },
      "execution_count": 26,
      "outputs": [
        {
          "output_type": "execute_result",
          "data": {
            "text/plain": [
              "[('annee_numero_de_tirage', 'string'),\n",
              " ('jour_de_tirage', 'string'),\n",
              " ('date_de_tirage', 'string'),\n",
              " ('date_de_forclusion', 'string'),\n",
              " ('boule_1', 'string'),\n",
              " ('boule_2', 'string'),\n",
              " ('boule_3', 'string'),\n",
              " ('boule_4', 'string'),\n",
              " ('boule_5', 'string'),\n",
              " ('numero_chance', 'string'),\n",
              " ('combinaison_gagnante_en_ordre_croissant', 'string'),\n",
              " ('nombre_de_gagnant_au_rang1', 'string'),\n",
              " ('rapport_du_rang1', 'string'),\n",
              " ('nombre_de_gagnant_au_rang2', 'string'),\n",
              " ('rapport_du_rang2', 'string'),\n",
              " ('nombre_de_gagnant_au_rang3', 'string'),\n",
              " ('rapport_du_rang3', 'string'),\n",
              " ('nombre_de_gagnant_au_rang4', 'string'),\n",
              " ('rapport_du_rang4', 'string'),\n",
              " ('nombre_de_gagnant_au_rang5', 'string'),\n",
              " ('rapport_du_rang5', 'string'),\n",
              " ('nombre_de_gagnant_au_rang6', 'string'),\n",
              " ('rapport_du_rang6', 'string'),\n",
              " ('nombre_de_gagnant_au_rang7', 'string'),\n",
              " ('rapport_du_rang7', 'string'),\n",
              " ('nombre_de_gagnant_au_rang8', 'string'),\n",
              " ('rapport_du_rang8', 'string'),\n",
              " ('nombre_de_gagnant_au_rang9', 'string'),\n",
              " ('rapport_du_rang9', 'string'),\n",
              " ('nombre_de_codes_gagnants', 'string'),\n",
              " ('rapport_codes_gagnants', 'string'),\n",
              " ('codes_gagnants', 'string'),\n",
              " ('numero_jokerplus', 'string'),\n",
              " ('devise', 'string'),\n",
              " ('_c34', 'string')]"
            ]
          },
          "metadata": {},
          "execution_count": 26
        }
      ]
    },
    {
      "cell_type": "code",
      "source": [
        "df_11.show(n=5)"
      ],
      "metadata": {
        "colab": {
          "base_uri": "https://localhost:8080/"
        },
        "id": "iRRAw4j6G-GI",
        "outputId": "09542c6e-4141-4987-d0cc-6be519e61fd7"
      },
      "execution_count": 27,
      "outputs": [
        {
          "output_type": "stream",
          "name": "stdout",
          "text": [
            "+----------------------+--------------+--------------+------------------+-------+-------+-------+-------+-------+-------------+---------------------------------------+--------------------------+----------------+--------------------------+----------------+--------------------------+----------------+--------------------------+----------------+--------------------------+----------------+--------------------------+----------------+--------------------------+----------------+--------------------------+----------------+--------------------------+----------------+------------------------+----------------------+--------------------+----------------+------+----+\n",
            "|annee_numero_de_tirage|jour_de_tirage|date_de_tirage|date_de_forclusion|boule_1|boule_2|boule_3|boule_4|boule_5|numero_chance|combinaison_gagnante_en_ordre_croissant|nombre_de_gagnant_au_rang1|rapport_du_rang1|nombre_de_gagnant_au_rang2|rapport_du_rang2|nombre_de_gagnant_au_rang3|rapport_du_rang3|nombre_de_gagnant_au_rang4|rapport_du_rang4|nombre_de_gagnant_au_rang5|rapport_du_rang5|nombre_de_gagnant_au_rang6|rapport_du_rang6|nombre_de_gagnant_au_rang7|rapport_du_rang7|nombre_de_gagnant_au_rang8|rapport_du_rang8|nombre_de_gagnant_au_rang9|rapport_du_rang9|nombre_de_codes_gagnants|rapport_codes_gagnants|      codes_gagnants|numero_jokerplus|devise|_c34|\n",
            "+----------------------+--------------+--------------+------------------+-------+-------+-------+-------+-------+-------------+---------------------------------------+--------------------------+----------------+--------------------------+----------------+--------------------------+----------------+--------------------------+----------------+--------------------------+----------------+--------------------------+----------------+--------------------------+----------------+--------------------------+----------------+--------------------------+----------------+------------------------+----------------------+--------------------+----------------+------+----+\n",
            "|              20233002|      MARDI   |    14/02/2023|        16/04/2023|     35|     48|     24|     12|     21|            1|                       12-21-24-35-48+1|                         0|        13000000|                         2|          248299|                        53|          3054,7|                       709|          1027,5|                      2836|           122,6|                     31846|            49,1|                     39064|            24,9|                    432402|             8,1|                    539428|               3|                      50|                 20000|C 0056 2023,J 146...|       6 749 297|   eur|null|\n",
            "|              20233001|      VENDREDI|    13/01/2023|        15/03/2023|     20|     35|      6|     25|     48|            4|                        6-20-25-35-48+4|                         0|        16000000|                         4|          209815|                       114|          2400,1|                       965|          1275,9|                      5043|           116,5|                     45367|            58,3|                     75467|            21,8|                    686474|             8,6|                   1120036|               3|                      50|                 20000|J 3873 3308,A 232...|       4 893 810|   eur|null|\n",
            "|              20222005|      VENDREDI|    07/10/2022|        07/12/2022|      9|     16|     29|      8|     40|            4|                         8-9-16-29-40+4|                         0|        19000000|                         1|        265725,4|                        40|          2165,7|                       377|            1034|                      1966|            94,6|                     17086|              49|                     27035|            19,2|                    240776|             7,7|                    350575|               3|                      50|                 20000|I 5340 5783,N 251...|       2 175 623|   eur|null|\n",
            "|              20222004|      VENDREDI|    16/09/2022|        16/11/2022|     48|     36|     30|     34|      2|           10|                       2-30-34-36-48+10|                         0|        13000000|                         0|        221055,6|                        23|         12744,5|                       228|          1422,4|                      1140|           135,8|                     10885|              64|                     17056|            25,4|                    166803|             9,3|                    253954|               3|                      50|                 20000|T 8451 4586,L 668...|       4 781 775|   eur|null|\n",
            "|              20222003|      VENDREDI|    01/07/2022|        31/08/2022|     39|      2|      1|     26|     48|            9|                         1-2-26-39-48+9|                         0|        13000000|                         2|        188505,5|                        53|          2319,1|                       396|          1396,7|                      2266|           116,5|                     20272|            58,6|                     34019|            21,7|                    305614|             8,7|                    488460|               3|                      50|                 20000|C 7273 0900,I 437...|       3 491 802|   eur|null|\n",
            "+----------------------+--------------+--------------+------------------+-------+-------+-------+-------+-------+-------------+---------------------------------------+--------------------------+----------------+--------------------------+----------------+--------------------------+----------------+--------------------------+----------------+--------------------------+----------------+--------------------------+----------------+--------------------------+----------------+--------------------------+----------------+--------------------------+----------------+------------------------+----------------------+--------------------+----------------+------+----+\n",
            "only showing top 5 rows\n",
            "\n"
          ]
        }
      ]
    },
    {
      "cell_type": "code",
      "source": [
        "df_1 = df_1.select(\"jour_de_tirage\",\"date_de_tirage\",\"boule_1\",\"boule_2\",\"boule_3\",\"boule_4\",\"boule_5\",\"numero_chance\",\"combinaison_gagnante_en_ordre_croissant\")\n",
        "df_3 = df_3.select(\"jour_de_tirage\",\"date_de_tirage\",\"boule_1\",\"boule_2\",\"boule_3\",\"boule_4\",\"boule_5\",\"numero_chance\",\"combinaison_gagnante_en_ordre_croissant\")\n",
        "df_4 = df_4.select(\"jour_de_tirage\",\"date_de_tirage\",\"boule_1\",\"boule_2\",\"boule_3\",\"boule_4\",\"boule_5\",\"numero_chance\",\"combinaison_gagnante_en_ordre_croissant\")\n",
        "df_5 = df_5.select(\"jour_de_tirage\",\"date_de_tirage\",\"boule_1\",\"boule_2\",\"boule_3\",\"boule_4\",\"boule_5\",\"numero_chance\",\"combinaison_gagnante_en_ordre_croissant\")\n",
        "df_6 = df_6.select(\"jour_de_tirage\",\"date_de_tirage\",\"boule_1\",\"boule_2\",\"boule_3\",\"boule_4\",\"boule_5\",\"numero_chance\",\"combinaison_gagnante_en_ordre_croissant\")\n",
        "df_7 = df_7.select(\"jour_de_tirage\",\"date_de_tirage\",\"boule_1\",\"boule_2\",\"boule_3\",\"boule_4\",\"boule_5\",\"numero_chance\",\"combinaison_gagnante_en_ordre_croissant\")\n",
        "df_8 = df_8.select(\"jour_de_tirage\",\"date_de_tirage\",\"boule_1\",\"boule_2\",\"boule_3\",\"boule_4\",\"boule_5\",\"numero_chance\",\"combinaison_gagnante_en_ordre_croissant\")\n",
        "df_10 = df_10.select(\"jour_de_tirage\",\"date_de_tirage\",\"boule_1\",\"boule_2\",\"boule_3\",\"boule_4\",\"boule_5\",\"numero_chance\",\"combinaison_gagnante_en_ordre_croissant\")\n",
        "df_11 = df_11.select(\"jour_de_tirage\",\"date_de_tirage\",\"boule_1\",\"boule_2\",\"boule_3\",\"boule_4\",\"boule_5\",\"numero_chance\",\"combinaison_gagnante_en_ordre_croissant\")"
      ],
      "metadata": {
        "id": "7ihhiz57HCLC"
      },
      "execution_count": 28,
      "outputs": []
    },
    {
      "cell_type": "code",
      "source": [
        "df_1.show(n=5)"
      ],
      "metadata": {
        "colab": {
          "base_uri": "https://localhost:8080/"
        },
        "id": "Uys1qc4pHEC-",
        "outputId": "3a4d1a63-cf8c-43f9-e8c7-415920678b96"
      },
      "execution_count": 29,
      "outputs": [
        {
          "output_type": "stream",
          "name": "stdout",
          "text": [
            "+--------------+--------------+-------+-------+-------+-------+-------+-------------+---------------------------------------+\n",
            "|jour_de_tirage|date_de_tirage|boule_1|boule_2|boule_3|boule_4|boule_5|numero_chance|combinaison_gagnante_en_ordre_croissant|\n",
            "+--------------+--------------+-------+-------+-------+-------+-------+-------------+---------------------------------------+\n",
            "|      DIMANCHE|    25/12/2022|     26|     17|     35|     40|     20|           10|                      17-20-26-35-40+10|\n",
            "|      VENDREDI|    24/12/2021|     26|     10|      8|     47|     17|           10|                       8-10-17-26-47+10|\n",
            "|      VENDREDI|    25/12/2020|     15|     48|     33|     30|     35|            5|                       15-30-33-35-48+5|\n",
            "|      MARDI   |    24/12/2019|     15|     39|     32|     10|     27|            6|                       10-15-27-32-39+6|\n",
            "+--------------+--------------+-------+-------+-------+-------+-------+-------------+---------------------------------------+\n",
            "\n"
          ]
        }
      ]
    },
    {
      "cell_type": "code",
      "source": [
        "merged_df = df_1.union(df_3).union(df_4).union(df_5).union(df_6).union(df_7).union(df_8).union(df_10).union(df_11)"
      ],
      "metadata": {
        "id": "81Oh76trHGPC"
      },
      "execution_count": 30,
      "outputs": []
    },
    {
      "cell_type": "code",
      "source": [
        "merged_df.count()"
      ],
      "metadata": {
        "colab": {
          "base_uri": "https://localhost:8080/"
        },
        "id": "kt0l826NHINe",
        "outputId": "51811b22-8873-4f0d-a250-eb2105e6fea9"
      },
      "execution_count": 31,
      "outputs": [
        {
          "output_type": "execute_result",
          "data": {
            "text/plain": [
              "2327"
            ]
          },
          "metadata": {},
          "execution_count": 31
        }
      ]
    },
    {
      "cell_type": "code",
      "source": [],
      "metadata": {
        "id": "kK-0nQufJWEh"
      },
      "execution_count": null,
      "outputs": []
    },
    {
      "cell_type": "code",
      "source": [
        "merged_df.dtypes"
      ],
      "metadata": {
        "colab": {
          "base_uri": "https://localhost:8080/"
        },
        "id": "xB2Q11WcHJZ4",
        "outputId": "791b7adb-fe45-407f-9ada-f105b73cea50"
      },
      "execution_count": 32,
      "outputs": [
        {
          "output_type": "execute_result",
          "data": {
            "text/plain": [
              "[('jour_de_tirage', 'string'),\n",
              " ('date_de_tirage', 'string'),\n",
              " ('boule_1', 'string'),\n",
              " ('boule_2', 'string'),\n",
              " ('boule_3', 'string'),\n",
              " ('boule_4', 'string'),\n",
              " ('boule_5', 'string'),\n",
              " ('numero_chance', 'string'),\n",
              " ('combinaison_gagnante_en_ordre_croissant', 'string')]"
            ]
          },
          "metadata": {},
          "execution_count": 32
        }
      ]
    },
    {
      "cell_type": "code",
      "source": [
        "from pyspark.sql.functions import col, to_date\n",
        "\n",
        "merged_df = merged_df.withColumn('date_de_tirage', to_date(col('date_de_tirage'), 'dd/MM/yyyy'))\n",
        "merged_df = merged_df.withColumn('boule_1', col('boule_1').cast('integer'))\n",
        "merged_df = merged_df.withColumn('boule_2', col('boule_2').cast('integer'))\n",
        "merged_df = merged_df.withColumn('boule_3', col('boule_3').cast('integer'))\n",
        "merged_df = merged_df.withColumn('boule_4', col('boule_4').cast('integer'))\n",
        "merged_df = merged_df.withColumn('boule_5', col('boule_5').cast('integer'))\n",
        "merged_df = merged_df.withColumn('numero_chance', col('numero_chance').cast('integer'))"
      ],
      "metadata": {
        "id": "FMJAH2TGHNwU"
      },
      "execution_count": 33,
      "outputs": []
    },
    {
      "cell_type": "code",
      "source": [
        "merged_df.count()"
      ],
      "metadata": {
        "colab": {
          "base_uri": "https://localhost:8080/"
        },
        "id": "QpahRGS1HRjr",
        "outputId": "d0577e21-cf5d-4a9b-d73d-26fdeeb78c56"
      },
      "execution_count": 34,
      "outputs": [
        {
          "output_type": "execute_result",
          "data": {
            "text/plain": [
              "2327"
            ]
          },
          "metadata": {},
          "execution_count": 34
        }
      ]
    },
    {
      "cell_type": "code",
      "source": [
        "merged_df.dtypes"
      ],
      "metadata": {
        "colab": {
          "base_uri": "https://localhost:8080/"
        },
        "id": "gYl9bdwvHT1a",
        "outputId": "9ea7271e-4414-4fd1-c368-5dcf7e1c084f"
      },
      "execution_count": 35,
      "outputs": [
        {
          "output_type": "execute_result",
          "data": {
            "text/plain": [
              "[('jour_de_tirage', 'string'),\n",
              " ('date_de_tirage', 'date'),\n",
              " ('boule_1', 'int'),\n",
              " ('boule_2', 'int'),\n",
              " ('boule_3', 'int'),\n",
              " ('boule_4', 'int'),\n",
              " ('boule_5', 'int'),\n",
              " ('numero_chance', 'int'),\n",
              " ('combinaison_gagnante_en_ordre_croissant', 'string')]"
            ]
          },
          "metadata": {},
          "execution_count": 35
        }
      ]
    },
    {
      "cell_type": "code",
      "source": [
        "merged_df.show(n=10)"
      ],
      "metadata": {
        "colab": {
          "base_uri": "https://localhost:8080/"
        },
        "id": "u955oYWAI7cr",
        "outputId": "07718139-a47a-4f67-f65b-2974180bda4f"
      },
      "execution_count": 36,
      "outputs": [
        {
          "output_type": "stream",
          "name": "stdout",
          "text": [
            "+--------------+--------------+-------+-------+-------+-------+-------+-------------+---------------------------------------+\n",
            "|jour_de_tirage|date_de_tirage|boule_1|boule_2|boule_3|boule_4|boule_5|numero_chance|combinaison_gagnante_en_ordre_croissant|\n",
            "+--------------+--------------+-------+-------+-------+-------+-------+-------------+---------------------------------------+\n",
            "|      DIMANCHE|    2022-12-25|     26|     17|     35|     40|     20|           10|                      17-20-26-35-40+10|\n",
            "|      VENDREDI|    2021-12-24|     26|     10|      8|     47|     17|           10|                       8-10-17-26-47+10|\n",
            "|      VENDREDI|    2020-12-25|     15|     48|     33|     30|     35|            5|                       15-30-33-35-48+5|\n",
            "|      MARDI   |    2019-12-24|     15|     39|     32|     10|     27|            6|                       10-15-27-32-39+6|\n",
            "|      LUNDI   |    2019-02-25|      7|     44|     37|     48|     38|            7|                        7-37-38-44-48+7|\n",
            "|      SAMEDI  |    2019-02-23|      3|     45|     13|      4|     44|            5|                         3-4-13-44-45+5|\n",
            "|      MERCREDI|    2019-02-20|     25|     29|      8|     34|     15|            1|                        8-15-25-29-34+1|\n",
            "|      LUNDI   |    2019-02-18|     18|      9|     11|     33|      7|            9|                         7-9-11-18-33+9|\n",
            "|      SAMEDI  |    2019-02-16|      8|      7|     25|     11|     46|            7|                         7-8-11-25-46+7|\n",
            "|      MERCREDI|    2019-02-13|     43|     41|     29|     14|      7|            3|                        7-14-29-41-43+3|\n",
            "+--------------+--------------+-------+-------+-------+-------+-------+-------------+---------------------------------------+\n",
            "only showing top 10 rows\n",
            "\n"
          ]
        }
      ]
    },
    {
      "cell_type": "code",
      "source": [
        "from pyspark.sql.functions import col\n",
        "from pyspark.ml.feature import VectorAssembler\n",
        "from pyspark.ml.clustering import KMeans\n",
        "\n",
        "# Fusionner toutes les colonnes de boules en une seule colonne\n",
        "all_numbers = (merged_df.select(col(\"boule_1\").alias(\"number\"))\n",
        "               .union(merged_df.select(col(\"boule_2\").alias(\"number\")))\n",
        "               .union(merged_df.select(col(\"boule_3\").alias(\"number\")))\n",
        "               .union(merged_df.select(col(\"boule_4\").alias(\"number\")))\n",
        "               .union(merged_df.select(col(\"boule_5\").alias(\"number\"))))\n",
        "\n",
        "# Calculer la fréquence de chaque numéro\n",
        "number_frequency = all_numbers.groupBy(\"number\").count().orderBy(\"number\")\n",
        "\n",
        "# Transformer les données en vecteurs pour utiliser KMeans\n",
        "assembler = VectorAssembler(inputCols=[\"number\"], outputCol=\"features\")\n",
        "number_frequency_vec = assembler.transform(number_frequency)\n",
        "\n",
        "# Utiliser KMeans pour regrouper les numéros en fonction de leur fréquence\n",
        "kmeans = KMeans(k=5, seed=42, featuresCol=\"features\", predictionCol=\"cluster\")\n",
        "model = kmeans.fit(number_frequency_vec)\n",
        "predictions = model.transform(number_frequency_vec)\n",
        "\n",
        "# Afficher les numéros les plus fréquents dans chaque cluster\n",
        "for i in range(5):\n",
        "    print(f\"Numéros les plus fréquents dans le cluster {i}:\")\n",
        "    cluster_numbers = predictions.filter(col(\"cluster\") == i).orderBy(\"count\", ascending=False)\n",
        "    cluster_numbers.show()"
      ],
      "metadata": {
        "colab": {
          "base_uri": "https://localhost:8080/"
        },
        "id": "6jn93m-9MrDm",
        "outputId": "3acdd170-b781-4882-e66f-557d73b0889e"
      },
      "execution_count": 37,
      "outputs": [
        {
          "output_type": "stream",
          "name": "stdout",
          "text": [
            "Numéros les plus fréquents dans le cluster 0:\n",
            "+------+-----+--------+-------+\n",
            "|number|count|features|cluster|\n",
            "+------+-----+--------+-------+\n",
            "|    44|  247|  [44.0]|      0|\n",
            "|    43|  240|  [43.0]|      0|\n",
            "|    49|  238|  [49.0]|      0|\n",
            "|    46|  237|  [46.0]|      0|\n",
            "|    48|  233|  [48.0]|      0|\n",
            "|    45|  232|  [45.0]|      0|\n",
            "|    47|  227|  [47.0]|      0|\n",
            "+------+-----+--------+-------+\n",
            "\n",
            "Numéros les plus fréquents dans le cluster 1:\n",
            "+------+-----+--------+-------+\n",
            "|number|count|features|cluster|\n",
            "+------+-----+--------+-------+\n",
            "|    22|  264|  [22.0]|      1|\n",
            "|    13|  263|  [13.0]|      1|\n",
            "|    15|  259|  [15.0]|      1|\n",
            "|    16|  246|  [16.0]|      1|\n",
            "|    23|  245|  [23.0]|      1|\n",
            "|    24|  240|  [24.0]|      1|\n",
            "|    17|  236|  [17.0]|      1|\n",
            "|    20|  235|  [20.0]|      1|\n",
            "|    21|  230|  [21.0]|      1|\n",
            "|    14|  226|  [14.0]|      1|\n",
            "|    18|  220|  [18.0]|      1|\n",
            "|    19|  216|  [19.0]|      1|\n",
            "+------+-----+--------+-------+\n",
            "\n",
            "Numéros les plus fréquents dans le cluster 2:\n",
            "+------+-----+--------+-------+\n",
            "|number|count|features|cluster|\n",
            "+------+-----+--------+-------+\n",
            "|     1|  249|   [1.0]|      2|\n",
            "|     7|  245|   [7.0]|      2|\n",
            "|     6|  241|   [6.0]|      2|\n",
            "|     9|  239|   [9.0]|      2|\n",
            "|     3|  237|   [3.0]|      2|\n",
            "|     5|  237|   [5.0]|      2|\n",
            "|    10|  236|  [10.0]|      2|\n",
            "|     4|  234|   [4.0]|      2|\n",
            "|    11|  229|  [11.0]|      2|\n",
            "|     2|  229|   [2.0]|      2|\n",
            "|    12|  227|  [12.0]|      2|\n",
            "|     8|  219|   [8.0]|      2|\n",
            "+------+-----+--------+-------+\n",
            "\n",
            "Numéros les plus fréquents dans le cluster 3:\n",
            "+------+-----+--------+-------+\n",
            "|number|count|features|cluster|\n",
            "+------+-----+--------+-------+\n",
            "|    26|  249|  [26.0]|      3|\n",
            "|    29|  248|  [29.0]|      3|\n",
            "|    31|  244|  [31.0]|      3|\n",
            "|    27|  243|  [27.0]|      3|\n",
            "|    33|  239|  [33.0]|      3|\n",
            "|    32|  231|  [32.0]|      3|\n",
            "|    28|  230|  [28.0]|      3|\n",
            "|    34|  228|  [34.0]|      3|\n",
            "|    30|  228|  [30.0]|      3|\n",
            "|    25|  214|  [25.0]|      3|\n",
            "+------+-----+--------+-------+\n",
            "\n",
            "Numéros les plus fréquents dans le cluster 4:\n",
            "+------+-----+--------+-------+\n",
            "|number|count|features|cluster|\n",
            "+------+-----+--------+-------+\n",
            "|    41|  275|  [41.0]|      4|\n",
            "|    38|  259|  [38.0]|      4|\n",
            "|    35|  250|  [35.0]|      4|\n",
            "|    40|  238|  [40.0]|      4|\n",
            "|    37|  236|  [37.0]|      4|\n",
            "|    36|  235|  [36.0]|      4|\n",
            "|    42|  219|  [42.0]|      4|\n",
            "|    39|  213|  [39.0]|      4|\n",
            "+------+-----+--------+-------+\n",
            "\n"
          ]
        }
      ]
    },
    {
      "cell_type": "code",
      "source": [
        "from pyspark.sql.functions import array, col, lag\n",
        "from pyspark.sql.window import Window\n",
        "from pyspark.ml.feature import VectorAssembler\n",
        "from pyspark.ml.classification import LogisticRegression\n",
        "from pyspark.sql.functions import udf\n",
        "from pyspark.sql.types import FloatType\n",
        "\n",
        "# Fusionner toutes les colonnes de boules en une seule colonne et créer une colonne de labels avec les numéros du prochain tirage\n",
        "window = Window.orderBy(\"date_de_tirage\")\n",
        "merged_df = merged_df.withColumn(\"next_numbers\", lag(array(\"boule_1\", \"boule_2\", \"boule_3\", \"boule_4\", \"boule_5\"), -1).over(window))\n",
        "merged_df = merged_df.filter(col(\"next_numbers\").isNotNull())\n",
        "\n",
        "# Transformer les colonnes de boules en un vecteur de features\n",
        "assembler = VectorAssembler(inputCols=[\"boule_1\", \"boule_2\", \"boule_3\", \"boule_4\", \"boule_5\"], outputCol=\"features\")\n",
        "#merged_df = assembler.transform(merged_df)\n",
        "\n",
        "# Diviser les données en ensembles d'apprentissage et de test\n",
        "train_data, test_data = merged_df.randomSplit([0.8, 0.2], seed=42)\n",
        "\n",
        "# Fonction pour entraîner un modèle de régression logistique pour un numéro spécifique\n",
        "def train_logistic_regression_model(train_data, number):\n",
        "    # Créer une colonne de labels binaires pour indiquer si un numéro est présent dans le prochain tirage\n",
        "    train_data = train_data.withColumn(\"label\", array_contains(col(\"next_numbers\"), number).cast(\"integer\"))\n",
        "\n",
        "    # Entraîner le modèle de régression logistique\n",
        "    lr = LogisticRegression(featuresCol=\"features\", labelCol=\"label\", maxIter=10)\n",
        "    model = lr.fit(train_data)\n",
        "\n",
        "    return model\n",
        "\n",
        "# Entraîner un modèle de régression logistique pour chaque numéro (1 à 50 pour l'exemple)\n",
        "models = {number: train_logistic_regression_model(train_data, number) for number in range(1, 51)}\n",
        "\n",
        "# Fonction pour prédire la probabilité d'un numéro spécifique en utilisant le modèle correspondant\n",
        "def predict_probability(features, number):\n",
        "    model = models[number]\n",
        "    probability = model.predictProbability(features)[1]\n",
        "    return float(probability)\n",
        "\n",
        "predict_probability_udf = udf(predict_probability, FloatType())\n",
        "\n",
        "# Préparer les données de test pour la prédiction\n",
        "test_data = test_data.withColumn(\"features_next\", col(\"next_numbers\"))\n",
        "\n",
        "# Prédire les probabilités pour chaque numéro et ajouter les résultats au DataFrame\n",
        "for number in range(1, 51):\n",
        "    test_data = test_data.withColumn(f\"prob_{number}\", predict_probability_udf(\"features_next\", number))\n",
        "\n",
        "test_data.show()"
      ],
      "metadata": {
        "colab": {
          "base_uri": "https://localhost:8080/",
          "height": 389
        },
        "id": "HH_HhDSeYelX",
        "outputId": "4a827748-be3a-4f2e-c65a-46fdd310eefd"
      },
      "execution_count": 40,
      "outputs": [
        {
          "output_type": "error",
          "ename": "NameError",
          "evalue": "ignored",
          "traceback": [
            "\u001b[0;31m---------------------------------------------------------------------------\u001b[0m",
            "\u001b[0;31mNameError\u001b[0m                                 Traceback (most recent call last)",
            "\u001b[0;32m<ipython-input-40-20084828f5f4>\u001b[0m in \u001b[0;36m<cell line: 32>\u001b[0;34m()\u001b[0m\n\u001b[1;32m     30\u001b[0m \u001b[0;34m\u001b[0m\u001b[0m\n\u001b[1;32m     31\u001b[0m \u001b[0;31m# Entraîner un modèle de régression logistique pour chaque numéro (1 à 50 pour l'exemple)\u001b[0m\u001b[0;34m\u001b[0m\u001b[0;34m\u001b[0m\u001b[0m\n\u001b[0;32m---> 32\u001b[0;31m \u001b[0mmodels\u001b[0m \u001b[0;34m=\u001b[0m \u001b[0;34m{\u001b[0m\u001b[0mnumber\u001b[0m\u001b[0;34m:\u001b[0m \u001b[0mtrain_logistic_regression_model\u001b[0m\u001b[0;34m(\u001b[0m\u001b[0mtrain_data\u001b[0m\u001b[0;34m,\u001b[0m \u001b[0mnumber\u001b[0m\u001b[0;34m)\u001b[0m \u001b[0;32mfor\u001b[0m \u001b[0mnumber\u001b[0m \u001b[0;32min\u001b[0m \u001b[0mrange\u001b[0m\u001b[0;34m(\u001b[0m\u001b[0;36m1\u001b[0m\u001b[0;34m,\u001b[0m \u001b[0;36m51\u001b[0m\u001b[0;34m)\u001b[0m\u001b[0;34m}\u001b[0m\u001b[0;34m\u001b[0m\u001b[0;34m\u001b[0m\u001b[0m\n\u001b[0m\u001b[1;32m     33\u001b[0m \u001b[0;34m\u001b[0m\u001b[0m\n\u001b[1;32m     34\u001b[0m \u001b[0;31m# Fonction pour prédire la probabilité d'un numéro spécifique en utilisant le modèle correspondant\u001b[0m\u001b[0;34m\u001b[0m\u001b[0;34m\u001b[0m\u001b[0m\n",
            "\u001b[0;32m<ipython-input-40-20084828f5f4>\u001b[0m in \u001b[0;36m<dictcomp>\u001b[0;34m(.0)\u001b[0m\n\u001b[1;32m     30\u001b[0m \u001b[0;34m\u001b[0m\u001b[0m\n\u001b[1;32m     31\u001b[0m \u001b[0;31m# Entraîner un modèle de régression logistique pour chaque numéro (1 à 50 pour l'exemple)\u001b[0m\u001b[0;34m\u001b[0m\u001b[0;34m\u001b[0m\u001b[0m\n\u001b[0;32m---> 32\u001b[0;31m \u001b[0mmodels\u001b[0m \u001b[0;34m=\u001b[0m \u001b[0;34m{\u001b[0m\u001b[0mnumber\u001b[0m\u001b[0;34m:\u001b[0m \u001b[0mtrain_logistic_regression_model\u001b[0m\u001b[0;34m(\u001b[0m\u001b[0mtrain_data\u001b[0m\u001b[0;34m,\u001b[0m \u001b[0mnumber\u001b[0m\u001b[0;34m)\u001b[0m \u001b[0;32mfor\u001b[0m \u001b[0mnumber\u001b[0m \u001b[0;32min\u001b[0m \u001b[0mrange\u001b[0m\u001b[0;34m(\u001b[0m\u001b[0;36m1\u001b[0m\u001b[0;34m,\u001b[0m \u001b[0;36m51\u001b[0m\u001b[0;34m)\u001b[0m\u001b[0;34m}\u001b[0m\u001b[0;34m\u001b[0m\u001b[0;34m\u001b[0m\u001b[0m\n\u001b[0m\u001b[1;32m     33\u001b[0m \u001b[0;34m\u001b[0m\u001b[0m\n\u001b[1;32m     34\u001b[0m \u001b[0;31m# Fonction pour prédire la probabilité d'un numéro spécifique en utilisant le modèle correspondant\u001b[0m\u001b[0;34m\u001b[0m\u001b[0;34m\u001b[0m\u001b[0m\n",
            "\u001b[0;32m<ipython-input-40-20084828f5f4>\u001b[0m in \u001b[0;36mtrain_logistic_regression_model\u001b[0;34m(train_data, number)\u001b[0m\n\u001b[1;32m     21\u001b[0m \u001b[0;32mdef\u001b[0m \u001b[0mtrain_logistic_regression_model\u001b[0m\u001b[0;34m(\u001b[0m\u001b[0mtrain_data\u001b[0m\u001b[0;34m,\u001b[0m \u001b[0mnumber\u001b[0m\u001b[0;34m)\u001b[0m\u001b[0;34m:\u001b[0m\u001b[0;34m\u001b[0m\u001b[0;34m\u001b[0m\u001b[0m\n\u001b[1;32m     22\u001b[0m     \u001b[0;31m# Créer une colonne de labels binaires pour indiquer si un numéro est présent dans le prochain tirage\u001b[0m\u001b[0;34m\u001b[0m\u001b[0;34m\u001b[0m\u001b[0m\n\u001b[0;32m---> 23\u001b[0;31m     \u001b[0mtrain_data\u001b[0m \u001b[0;34m=\u001b[0m \u001b[0mtrain_data\u001b[0m\u001b[0;34m.\u001b[0m\u001b[0mwithColumn\u001b[0m\u001b[0;34m(\u001b[0m\u001b[0;34m\"label\"\u001b[0m\u001b[0;34m,\u001b[0m \u001b[0marray_contains\u001b[0m\u001b[0;34m(\u001b[0m\u001b[0mcol\u001b[0m\u001b[0;34m(\u001b[0m\u001b[0;34m\"next_numbers\"\u001b[0m\u001b[0;34m)\u001b[0m\u001b[0;34m,\u001b[0m \u001b[0mnumber\u001b[0m\u001b[0;34m)\u001b[0m\u001b[0;34m.\u001b[0m\u001b[0mcast\u001b[0m\u001b[0;34m(\u001b[0m\u001b[0;34m\"integer\"\u001b[0m\u001b[0;34m)\u001b[0m\u001b[0;34m)\u001b[0m\u001b[0;34m\u001b[0m\u001b[0;34m\u001b[0m\u001b[0m\n\u001b[0m\u001b[1;32m     24\u001b[0m \u001b[0;34m\u001b[0m\u001b[0m\n\u001b[1;32m     25\u001b[0m     \u001b[0;31m# Entraîner le modèle de régression logistique\u001b[0m\u001b[0;34m\u001b[0m\u001b[0;34m\u001b[0m\u001b[0m\n",
            "\u001b[0;31mNameError\u001b[0m: name 'array_contains' is not defined"
          ]
        }
      ]
    }
  ]
}